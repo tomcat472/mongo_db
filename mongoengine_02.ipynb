{
 "cells": [
  {
   "cell_type": "code",
   "execution_count": 1,
   "id": "898b8777",
   "metadata": {},
   "outputs": [],
   "source": [
    "from mongoengine import *"
   ]
  },
  {
   "cell_type": "code",
   "execution_count": 2,
   "id": "4ac00baf",
   "metadata": {},
   "outputs": [
    {
     "data": {
      "text/plain": [
       "MongoClient(host=['localhost:27017'], document_class=dict, tz_aware=False, connect=True, read_preference=Primary(), uuidrepresentation=3)"
      ]
     },
     "execution_count": 2,
     "metadata": {},
     "output_type": "execute_result"
    }
   ],
   "source": [
    "connect()"
   ]
  },
  {
   "cell_type": "code",
   "execution_count": 3,
   "id": "03183dc3",
   "metadata": {},
   "outputs": [],
   "source": [
    "class Contacts(Document):\n",
    "    first_name=StringField()\n",
    "    last_name=StringField()\n",
    "    email=EmailField()"
   ]
  },
  {
   "cell_type": "code",
   "execution_count": 4,
   "id": "6ff1380c",
   "metadata": {},
   "outputs": [],
   "source": [
    "contact1=Contacts(first_name='Tom',last_name='cat',email='tomcat472.kta@gmail.com')"
   ]
  },
  {
   "cell_type": "code",
   "execution_count": 5,
   "id": "450d054d",
   "metadata": {},
   "outputs": [
    {
     "data": {
      "text/plain": [
       "<Contacts: Contacts object>"
      ]
     },
     "execution_count": 5,
     "metadata": {},
     "output_type": "execute_result"
    }
   ],
   "source": [
    "contact1.save()"
   ]
  },
  {
   "cell_type": "code",
   "execution_count": 6,
   "id": "2565b9d2",
   "metadata": {},
   "outputs": [],
   "source": [
    "disconnect()"
   ]
  },
  {
   "cell_type": "code",
   "execution_count": 7,
   "id": "2b038ae7",
   "metadata": {},
   "outputs": [
    {
     "data": {
      "text/plain": [
       "MongoClient(host=['localhost:27017'], document_class=dict, tz_aware=False, connect=True, read_preference=Primary(), uuidrepresentation=3)"
      ]
     },
     "execution_count": 7,
     "metadata": {},
     "output_type": "execute_result"
    }
   ],
   "source": [
    "connect(db='test_db')"
   ]
  },
  {
   "cell_type": "code",
   "execution_count": 8,
   "id": "4b8a145f",
   "metadata": {},
   "outputs": [],
   "source": [
    "contact2=Contacts(first_name='Ye',last_name='Htut',email='yhk472.kta@gmail.com')"
   ]
  },
  {
   "cell_type": "code",
   "execution_count": 9,
   "id": "941efd49",
   "metadata": {},
   "outputs": [
    {
     "data": {
      "text/plain": [
       "<Contacts: Contacts object>"
      ]
     },
     "execution_count": 9,
     "metadata": {},
     "output_type": "execute_result"
    }
   ],
   "source": [
    "contact2.save()"
   ]
  },
  {
   "cell_type": "code",
   "execution_count": 10,
   "id": "1d8df8c5",
   "metadata": {},
   "outputs": [],
   "source": [
    "class Contacts(Document):\n",
    "    first_name=StringField()\n",
    "    last_name=StringField()\n",
    "    email=EmailField()\n",
    "    \n",
    "    meta={'collection':'my_contacts'}"
   ]
  },
  {
   "cell_type": "code",
   "execution_count": 11,
   "id": "5b0617ea",
   "metadata": {},
   "outputs": [],
   "source": [
    "contact2=Contacts(first_name='Naing',last_name='Lint',email='nla.kta@gmail.com')"
   ]
  },
  {
   "cell_type": "code",
   "execution_count": 12,
   "id": "d66fa2a2",
   "metadata": {},
   "outputs": [
    {
     "data": {
      "text/plain": [
       "<Contacts: Contacts object>"
      ]
     },
     "execution_count": 12,
     "metadata": {},
     "output_type": "execute_result"
    }
   ],
   "source": [
    "contact2.save()"
   ]
  }
 ],
 "metadata": {
  "kernelspec": {
   "display_name": "Python 3 (ipykernel)",
   "language": "python",
   "name": "python3"
  },
  "language_info": {
   "codemirror_mode": {
    "name": "ipython",
    "version": 3
   },
   "file_extension": ".py",
   "mimetype": "text/x-python",
   "name": "python",
   "nbconvert_exporter": "python",
   "pygments_lexer": "ipython3",
   "version": "3.10.9"
  }
 },
 "nbformat": 4,
 "nbformat_minor": 5
}
