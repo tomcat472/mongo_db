{
 "cells": [
  {
   "cell_type": "code",
   "execution_count": 1,
   "id": "b1809bd1",
   "metadata": {},
   "outputs": [],
   "source": [
    "from mongoengine import *"
   ]
  },
  {
   "cell_type": "code",
   "execution_count": 2,
   "id": "07f17e2c",
   "metadata": {},
   "outputs": [
    {
     "data": {
      "text/plain": [
       "MongoClient(host=['localhost:27017'], document_class=dict, tz_aware=False, connect=True, read_preference=Primary(), uuidrepresentation=3)"
      ]
     },
     "execution_count": 2,
     "metadata": {},
     "output_type": "execute_result"
    }
   ],
   "source": [
    "connect('mydb')"
   ]
  },
  {
   "cell_type": "code",
   "execution_count": 3,
   "id": "20248af4",
   "metadata": {},
   "outputs": [],
   "source": [
    "class Contacts(Document):\n",
    "    first_name=StringField()\n",
    "    last_name=StringField()\n",
    "    email=EmailField()\n",
    "    \n",
    "    meta={'collection':'my_contacts'}"
   ]
  },
  {
   "cell_type": "code",
   "execution_count": 4,
   "id": "eab28cf3",
   "metadata": {},
   "outputs": [],
   "source": [
    "contact1=Contacts(first_name='Tom',last_name='cat',email='tomcat472.kta@gmail.com')"
   ]
  },
  {
   "cell_type": "code",
   "execution_count": 5,
   "id": "026a3b3b",
   "metadata": {},
   "outputs": [
    {
     "data": {
      "text/plain": [
       "<Contacts: Contacts object>"
      ]
     },
     "execution_count": 5,
     "metadata": {},
     "output_type": "execute_result"
    }
   ],
   "source": [
    "contact1.save()"
   ]
  },
  {
   "cell_type": "code",
   "execution_count": 6,
   "id": "6a6c0c02",
   "metadata": {},
   "outputs": [],
   "source": [
    "class Employee(Document):\n",
    "    emp_id=LongField(primary_key=True)\n",
    "    first_name=StringField()\n",
    "    last_name=StringField()\n",
    "    email=EmailField()\n",
    "    birth_date=DateField()\n",
    "    salary=DecimalField()"
   ]
  },
  {
   "cell_type": "code",
   "execution_count": 7,
   "id": "17632569",
   "metadata": {},
   "outputs": [],
   "source": [
    "emp1=Employee()"
   ]
  },
  {
   "cell_type": "code",
   "execution_count": 8,
   "id": "159df66b",
   "metadata": {},
   "outputs": [],
   "source": [
    "emp1.emp_id=112233\n",
    "emp1.first_name='Harry'\n",
    "emp1.last_name='Styles'\n",
    "emp1.email='harry23@gmail.com'\n",
    "emp1.birth_date='01/01/1997'\n",
    "emp1.salary=200000"
   ]
  },
  {
   "cell_type": "code",
   "execution_count": 9,
   "id": "924b0463",
   "metadata": {},
   "outputs": [
    {
     "data": {
      "text/plain": [
       "<Employee: Employee object>"
      ]
     },
     "execution_count": 9,
     "metadata": {},
     "output_type": "execute_result"
    }
   ],
   "source": [
    "emp1.save()"
   ]
  },
  {
   "cell_type": "code",
   "execution_count": 10,
   "id": "17a5fdc9",
   "metadata": {},
   "outputs": [],
   "source": [
    "emp2=Employee(emp_id=23,first_name='Jack',last_name='Mary',\n",
    "              email='jack4433@gmail.com',birth_date='02/12/1998',salary=234000)"
   ]
  },
  {
   "cell_type": "code",
   "execution_count": 11,
   "id": "ed20bd06",
   "metadata": {},
   "outputs": [
    {
     "data": {
      "text/plain": [
       "<Employee: Employee object>"
      ]
     },
     "execution_count": 11,
     "metadata": {},
     "output_type": "execute_result"
    }
   ],
   "source": [
    "emp2.save()"
   ]
  },
  {
   "cell_type": "code",
   "execution_count": 12,
   "id": "8f88d69e",
   "metadata": {},
   "outputs": [],
   "source": [
    "from datetime import datetime"
   ]
  },
  {
   "cell_type": "code",
   "execution_count": 13,
   "id": "2b134679",
   "metadata": {},
   "outputs": [],
   "source": [
    "def check_date(b_date):\n",
    "    delta=datetime.today()-datetime.strftime(b_date,'%d/%m/%Y')\n",
    "    if (delta.day/365)>30:\n",
    "        raise ValidationError('Too old')"
   ]
  },
  {
   "cell_type": "code",
   "execution_count": 14,
   "id": "728532d6",
   "metadata": {},
   "outputs": [],
   "source": [
    "class Employee(Document):\n",
    "    first_name=StringField(max_length=64,required=True)\n",
    "    last_name=StringField(max_length=64,required=True)\n",
    "    email=EmailField(required=True,unique=True)\n",
    "    birth_date=DateField()\n",
    "    salary=DecimalField()\n",
    "    \n",
    "    meta={'collection':'Emp2'}"
   ]
  },
  {
   "cell_type": "code",
   "execution_count": 15,
   "id": "e0d4e501",
   "metadata": {},
   "outputs": [],
   "source": [
    "emp1=Employee(first_name='Jack',last_name='Mary',\n",
    "              email='jack4433@gmail.com',birth_date='02/12/1998',salary=234000)"
   ]
  },
  {
   "cell_type": "code",
   "execution_count": 16,
   "id": "07a1a57c",
   "metadata": {},
   "outputs": [],
   "source": [
    "# emp1.save()"
   ]
  }
 ],
 "metadata": {
  "kernelspec": {
   "display_name": "Python 3 (ipykernel)",
   "language": "python",
   "name": "python3"
  },
  "language_info": {
   "codemirror_mode": {
    "name": "ipython",
    "version": 3
   },
   "file_extension": ".py",
   "mimetype": "text/x-python",
   "name": "python",
   "nbconvert_exporter": "python",
   "pygments_lexer": "ipython3",
   "version": "3.10.9"
  }
 },
 "nbformat": 4,
 "nbformat_minor": 5
}
